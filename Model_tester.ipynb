{
 "cells": [
  {
   "cell_type": "code",
   "execution_count": 1,
   "id": "66684c7c",
   "metadata": {},
   "outputs": [],
   "source": [
    "#Importations\n",
    "\n",
    "import json\n",
    "import re\n",
    "import os\n",
    "\n",
    "import numpy as np\n",
    "\n",
    "from keras.models import load_model\n",
    "from keras.preprocessing.text import Tokenizer, tokenizer_from_json\n",
    "from keras.preprocessing.sequence import pad_sequences"
   ]
  },
  {
   "cell_type": "markdown",
   "id": "6ecce45a",
   "metadata": {},
   "source": [
    "## Load Files"
   ]
  },
  {
   "cell_type": "markdown",
   "id": "5a79fc1d",
   "metadata": {},
   "source": [
    "Loading trained models, the used tokenizer, needed txt files"
   ]
  },
  {
   "cell_type": "code",
   "execution_count": 2,
   "id": "1d5ca07c",
   "metadata": {},
   "outputs": [],
   "source": [
    "Lemma_model = load_model(\"Models/Lemma_model.h5\")\n",
    "\n",
    "#Import the tokenizers from the training phase to tkenize new sentences for prediction.\n",
    "\n",
    "TokenBase = \"Models/Tokenizers/\"\n",
    "with open(TokenBase+'Letter_tokenizer.json') as f:\n",
    "    data = json.load(f)\n",
    "    Letter_tokenizer = tokenizer_from_json(data)\n",
    "\n",
    "\n",
    "TxtBase = \"Models/txt/\"\n",
    "StopWords = open(TxtBase+\"StopWords.txt\",\"r\",encoding=\"utf-8\").readlines()\n",
    "for i in range(len(StopWords)):\n",
    "    StopWords[i] = StopWords[i].replace(\"\\n\",\"\")\n",
    "Prepositions = open(TxtBase+\"Prepositions.txt\",\"r\",encoding=\"utf-8\").readlines()\n",
    "for i in range(len(Prepositions)):\n",
    "    Prepositions[i] = Prepositions[i].replace(\"\\n\",\"\")\n",
    "    \n",
    "    \n",
    "os.environ['TF_CPP_MIN_LOG_LEVEL'] = '3'\n",
    "seq_length = 25"
   ]
  },
  {
   "cell_type": "markdown",
   "id": "31b9e2cc",
   "metadata": {},
   "source": [
    "- Preprocessing functions to prepare text before prediction. "
   ]
  },
  {
   "cell_type": "code",
   "execution_count": 3,
   "id": "8209d1ec",
   "metadata": {},
   "outputs": [],
   "source": [
    "arabic_diacritics = re.compile(\"\"\"  ّ| َ| ً| ُ| ٌ| ِ| ٍ| ْ| ٰ \"\"\", re.VERBOSE)\n",
    "def remove_diac(text):\n",
    "    text = re.sub(arabic_diacritics, '', text)\n",
    "    text = text.replace(\"ٱ\", \"ا\")\n",
    "    return text"
   ]
  },
  {
   "cell_type": "code",
   "execution_count": 4,
   "id": "055ac821",
   "metadata": {},
   "outputs": [],
   "source": [
    "#tokenize letters to numbers, pad them.\n",
    "def encode_sequences(tokenizer, length, lines):\n",
    "    seq = tokenizer.texts_to_sequences(lines)\n",
    "    seq = pad_sequences(seq, maxlen=length, padding='post',truncating='post')\n",
    "    return seq"
   ]
  },
  {
   "cell_type": "code",
   "execution_count": 5,
   "id": "3658a179",
   "metadata": {},
   "outputs": [],
   "source": [
    "#Receives Text as input, clean it, split it, handels punctuation marks, returns it as list of words. \n",
    "def splitter(Text):\n",
    "    Result = ''\n",
    "    Result = ''.join([Result+(remove_diac(Word)) for Word in Text])   #Remove diacritics, it makes work a lot harded\n",
    "    Result = re.findall(r\"\\w+|[^\\w\\s]\", Result, re.UNICODE)           #Separate punctuation marks of words\n",
    "    return(Result)"
   ]
  },
  {
   "cell_type": "markdown",
   "id": "2b72c214",
   "metadata": {},
   "source": [
    "- Main predicting function to be used in the decoder"
   ]
  },
  {
   "cell_type": "code",
   "execution_count": 6,
   "id": "c140d6df",
   "metadata": {},
   "outputs": [],
   "source": [
    "# Important function that returns False if machine wasn't sure of it's prediction\n",
    "def MyArgmax(List):\n",
    "    for item in List[0]:     \n",
    "        index = np.argmax(item)\n",
    "        value = item[index]\n",
    "        if (value < 0.95):\n",
    "            return False\n",
    "    return True"
   ]
  },
  {
   "cell_type": "code",
   "execution_count": 7,
   "id": "ae96fe5b",
   "metadata": {},
   "outputs": [],
   "source": [
    "def predicter(Text):\n",
    "\n",
    "    #Text preprocessing from [Example] to [2,3,4,4,4,0,0,0] to get pridected\n",
    "    Text_Split = Text.split()\n",
    "    Text_join = [(' '.join(elem)) for elem in Text_Split]\n",
    "    Word_Test = encode_sequences(Letter_tokenizer, seq_length, Text_join)\n",
    "    data = (Word_Test.reshape((Word_Test.shape[0],Word_Test.shape[1])))\n",
    "    #pridection\n",
    "    if MyArgmax(Lemma_model.predict(data)):        \n",
    "        preds = np.argmax(Lemma_model.predict(data), axis=-1)\n",
    "    else:\n",
    "        preds = Word_Test         # If machine wasn't 100% sure, return same input\n",
    "    return preds"
   ]
  },
  {
   "cell_type": "markdown",
   "id": "c6722b15",
   "metadata": {},
   "source": [
    "# The Decoder"
   ]
  },
  {
   "cell_type": "markdown",
   "id": "4e87e9c5",
   "metadata": {},
   "source": [
    "the below cell works as the decoder, it takes the output prediction as sequence, decode it into text. "
   ]
  },
  {
   "cell_type": "code",
   "execution_count": 8,
   "id": "847cf185",
   "metadata": {},
   "outputs": [],
   "source": [
    "# Receives one Sequnce, decode it into one Letter\n",
    "def get_Letter(n, tokenizer):\n",
    "    for word, index in tokenizer.word_index.items():\n",
    "        if index == n:\n",
    "            return word\n",
    "    return None\n",
    "\n",
    "# Receives a word, Predict its result and outputs it as Sequences\n",
    "def PredResult(Text):\n",
    "    preds = predicter(Text)\n",
    "    preds_text = []\n",
    "    for lemma in preds:                  #handle each sequnce(One letter) individually using get_Letter()\n",
    "        temp = []\n",
    "        for letter in range(len(lemma)):\n",
    "            resLetter = get_Letter(lemma[letter], Letter_tokenizer)                  #Decode Sequence \n",
    "            if (resLetter != None):\n",
    "                temp.append(resLetter)\n",
    "        preds_text.append(''.join(temp))     #If result was found, add the new letter to the previous to form a word\n",
    "    return preds_text[0]"
   ]
  },
  {
   "cell_type": "markdown",
   "id": "302e667b",
   "metadata": {},
   "source": [
    "# Main function to extract lemmas"
   ]
  },
  {
   "cell_type": "code",
   "execution_count": 9,
   "id": "514d3917",
   "metadata": {},
   "outputs": [],
   "source": [
    "def GetLemma(Text):\n",
    "    Result = ''\n",
    "    Text_Split = splitter(Text)         #Split text to handle each word separately\n",
    "    for Word in Text_Split:\n",
    "        if (Word in StopWords) or (Word.isnumeric()) or (bool(re.match(\"[.!?:;,\\\\-]\", Word))):\n",
    "            Result = Result+\" \"+Word\n",
    "        else:                                  #Sends word to decoder, add the result to five full output\n",
    "            Result = Result+\" \"+str(PredResult(Word))\n",
    "    return Result"
   ]
  },
  {
   "cell_type": "code",
   "execution_count": 13,
   "id": "919d92e8",
   "metadata": {},
   "outputs": [
    {
     "name": "stdout",
     "output_type": "stream",
     "text": [
      " أَكَل لَعِبَ ذَهَبَ مَرِحَ رَأَى تَمَشَّى استراتيجية اليقطين أَحْمَر تَلاعُب حَرِير\n"
     ]
    }
   ],
   "source": [
    "Text = \"يأكل يلعب يذهب يمرح يرى يتمشى استراتيجية اليقطين الأحمر تلاعب الحرير\"\n",
    "Result = GetLemma(Text)\n",
    "print(Result)\n",
    "# print(remove_diac(Result)) "
   ]
  }
 ],
 "metadata": {
  "kernelspec": {
   "display_name": "Python 3 (ipykernel)",
   "language": "python",
   "name": "python3"
  },
  "language_info": {
   "codemirror_mode": {
    "name": "ipython",
    "version": 3
   },
   "file_extension": ".py",
   "mimetype": "text/x-python",
   "name": "python",
   "nbconvert_exporter": "python",
   "pygments_lexer": "ipython3",
   "version": "3.8.8"
  }
 },
 "nbformat": 4,
 "nbformat_minor": 5
}
